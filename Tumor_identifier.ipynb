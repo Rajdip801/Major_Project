{
 "cells": [
  {
   "cell_type": "code",
   "execution_count": 2,
   "metadata": {},
   "outputs": [],
   "source": [
    "#Importing Packages.\n",
    "import numpy as np\n",
    "import torch\n",
    "from torch.utils.data import Dataset,DataLoader\n",
    "import glob\n",
    "import matplotlib.pyplot as plt\n",
    "from sklearn.metrics import confusion_matrix, accuracy_score\n",
    "import cv2"
   ]
  },
  {
   "cell_type": "code",
   "execution_count": 3,
   "metadata": {},
   "outputs": [],
   "source": [
    "#Loading the image files yes to the tumor array.\n",
    "tumor=[]\n",
    "path='./Brain/Testing/yes/*.jpg'\n",
    "for i in glob.iglob(path):\n",
    "    img=cv2.imread(i)\n",
    "    img=cv2.resize(img,(128,128))#Changing the shapes of the images for consistency img reading\n",
    "    b , g, r=cv2.split(img)\n",
    "    img=cv2.merge([r,g,b])\n",
    "    tumor.append(img)"
   ]
  },
  {
   "cell_type": "code",
   "execution_count": 4,
   "metadata": {},
   "outputs": [],
   "source": [
    "#Loading of non tumor image files to the array.\n",
    "no_tumor=[]\n",
    "path2='./Brain/Testing/no_tumor/*.jpg'\n",
    "for i in glob.iglob(path2):\n",
    "    img=cv2.imread(i)\n",
    "    img=cv2.resize(img,(128,128))#Changing the shapes of the images for consistency img reading\n",
    "    b , g, r=cv2.split(img)\n",
    "    img=cv2.merge([r,g,b])\n",
    "    no_tumor.append(img)"
   ]
  },
  {
   "cell_type": "code",
   "execution_count": 7,
   "metadata": {},
   "outputs": [],
   "source": [
    "no_tumor=np.array(no_tumor)\n",
    "tumor=np.array(tumor)\n"
   ]
  },
  {
   "cell_type": "code",
   "execution_count": 8,
   "metadata": {},
   "outputs": [
    {
     "data": {
      "text/plain": [
       "(154, 128, 128, 3)"
      ]
     },
     "execution_count": 8,
     "metadata": {},
     "output_type": "execute_result"
    }
   ],
   "source": [
    "tumor.shape#154 number of data points,dimensions are 128 128 3"
   ]
  },
  {
   "cell_type": "code",
   "execution_count": 9,
   "metadata": {},
   "outputs": [
    {
     "data": {
      "text/plain": [
       "(196, 128, 128, 3)"
      ]
     },
     "execution_count": 9,
     "metadata": {},
     "output_type": "execute_result"
    }
   ],
   "source": [
    "no_tumor.shape#196 number of data points,dimensions are 128 128 3"
   ]
  },
  {
   "cell_type": "code",
   "execution_count": 12,
   "metadata": {},
   "outputs": [
    {
     "data": {
      "text/plain": [
       "(350, 128, 128, 3)"
      ]
     },
     "execution_count": 12,
     "metadata": {},
     "output_type": "execute_result"
    }
   ],
   "source": [
    "All=np.concatenate((no_tumor,tumor))\n",
    "All.shape"
   ]
  }
 ],
 "metadata": {
  "kernelspec": {
   "display_name": "Python 3",
   "language": "python",
   "name": "python3"
  },
  "language_info": {
   "codemirror_mode": {
    "name": "ipython",
    "version": 3
   },
   "file_extension": ".py",
   "mimetype": "text/x-python",
   "name": "python",
   "nbconvert_exporter": "python",
   "pygments_lexer": "ipython3",
   "version": "3.11.0"
  }
 },
 "nbformat": 4,
 "nbformat_minor": 2
}
